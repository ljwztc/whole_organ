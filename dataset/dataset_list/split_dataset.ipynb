{
 "cells": [
  {
   "cell_type": "code",
   "execution_count": 5,
   "metadata": {},
   "outputs": [],
   "source": [
    "from random import sample\n",
    "file_name = 'PAOT'\n",
    "with open(file_name + '.txt', 'r') as f:\n",
    "    line_set=[]\n",
    "    lines = f.readlines()\n",
    "    for line in lines:\n",
    "        line_set.append(line)\n",
    "line_set = sorted(line_set)\n",
    "\n",
    "train_set = sample(line_set, int(len(line_set)*0.8))\n",
    "train_set = sorted(train_set)\n",
    "with open(file_name + '_train.txt', 'w') as f:\n",
    "    for line in train_set:\n",
    "        f.write(line)\n",
    "\n",
    "rest_set = []\n",
    "for line in line_set:\n",
    "    if line in train_set:\n",
    "        pass\n",
    "    else:\n",
    "        rest_set.append(line)\n",
    "\n",
    "val_set = sample(rest_set, int(len(rest_set)*0.25))\n",
    "val_set = sorted(val_set)\n",
    "\n",
    "with open(file_name + '_val.txt', 'w') as f:\n",
    "    for line in val_set:\n",
    "        f.write(line)\n",
    "\n",
    "with open(file_name + '_test.txt', 'w') as f:\n",
    "    for line in rest_set:\n",
    "        if line in val_set:\n",
    "            pass\n",
    "        else:\n",
    "            f.write(line)"
   ]
  },
  {
   "cell_type": "code",
   "execution_count": null,
   "metadata": {},
   "outputs": [],
   "source": []
  }
 ],
 "metadata": {
  "kernelspec": {
   "display_name": "Python 3",
   "language": "python",
   "name": "python3"
  },
  "language_info": {
   "codemirror_mode": {
    "name": "ipython",
    "version": 3
   },
   "file_extension": ".py",
   "mimetype": "text/x-python",
   "name": "python",
   "nbconvert_exporter": "python",
   "pygments_lexer": "ipython3",
   "version": "3.8.3"
  }
 },
 "nbformat": 4,
 "nbformat_minor": 4
}
